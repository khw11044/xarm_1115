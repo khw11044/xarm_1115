{
 "cells": [
  {
   "cell_type": "code",
   "execution_count": 1,
   "metadata": {},
   "outputs": [
    {
     "data": {
      "text/plain": [
       "True"
      ]
     },
     "execution_count": 1,
     "metadata": {},
     "output_type": "execute_result"
    }
   ],
   "source": [
    "# API KEY를 환경변수로 관리하기 위한 설정 파일\n",
    "from dotenv import load_dotenv\n",
    "\n",
    "# API KEY 정보로드\n",
    "load_dotenv()"
   ]
  },
  {
   "cell_type": "code",
   "execution_count": 2,
   "metadata": {},
   "outputs": [],
   "source": [
    "from langchain_core.prompts import ChatPromptTemplate, MessagesPlaceholder\n",
    "from langchain_community.chat_message_histories import ChatMessageHistory, SQLChatMessageHistory\n",
    "from langchain_core.chat_history import BaseChatMessageHistory\n",
    "from langchain_core.runnables.history import RunnableWithMessageHistory\n",
    "from langchain_openai import ChatOpenAI\n",
    "from langchain_core.output_parsers import StrOutputParser"
   ]
  },
  {
   "cell_type": "code",
   "execution_count": 3,
   "metadata": {},
   "outputs": [],
   "source": [
    "\n",
    "\n",
    "# 세션 ID를 기반으로 세션 기록을 가져오는 함수\n",
    "def get_chat_history(user_id):\n",
    "    return SQLChatMessageHistory(\n",
    "        table_name='customer',\n",
    "        session_id=user_id,\n",
    "        connection=\"sqlite:///sqlite.db\",\n",
    "    )"
   ]
  },
  {
   "cell_type": "code",
   "execution_count": 4,
   "metadata": {},
   "outputs": [],
   "source": [
    "# 2. 질문 프롬프트\n",
    "order_system_prompt = \"\"\"\n",
    "    당신은 아이스크림 토핑 주문 접수원입니다. 반드시 존대말을 사용하세요.\n",
    "    우리 가게에 아이스크림 토핑 종류는 3개가 있습니다.\n",
    "    당신은 고객을 기억하고 고객과의 대화를 기억합니다.\n",
    "    고객이 과거 자신의 주문 내역을 요청하면, 대답해주세요. \n",
    "    \n",
    "    고객이 회원가입을 희망하는 경우, '회원가입이 완료되었습니다.'라고 대답하세요.\n",
    "    고객이 토핑 또는 메뉴의 종류를 물어볼 경우, '코코볼, 아몬드, 시리얼 3가지 토핑이 있습니다.'라고 대답하세요.\n",
    "    \n",
    "    \n",
    "    만약 고객이 아이스크림 토핑 주문을 한 경우,\n",
    "    받은 주문을 짧고 간결하게 확인하는 문장을 제공하세요. \n",
    "    주문이 접수되었다면 반드시 마지막 문장은 '주문되었습니다.'로 말하세요.\n",
    "    다음은 주문과 답변 예시입니다. 아래와 같이 대답하세요.\n",
    "    \n",
    "    고객)\n",
    "    아몬드랑 시리얼 주세요!!\n",
    "    \n",
    "    AI접수원)\n",
    "    \n",
    "    - 아몬드\n",
    "    - 시리얼\n",
    "    \n",
    "    주문되었습니다.\n",
    "    \n",
    "    \n",
    "    위 규칙을 통해 아래 고객의 주문에 대해 답변해주세요. \n",
    "    \n",
    "\n",
    "    고객):\n",
    "    {input}\n",
    "\n",
    "    AI접수원):\n",
    "    \"\"\""
   ]
  },
  {
   "cell_type": "code",
   "execution_count": 5,
   "metadata": {},
   "outputs": [],
   "source": [
    "# # 프롬프트 정의\n",
    "# prompt = ChatPromptTemplate.from_messages(\n",
    "#     [\n",
    "#         (\n",
    "#             \"system\",\n",
    "#             \"당신은 Question-Answering 챗봇입니다. 주어진 질문에 대한 답변을 제공해주세요.\",\n",
    "#         ),\n",
    "#         # 대화기록용 key 인 chat_history 는 가급적 변경 없이 사용하세요!\n",
    "#         MessagesPlaceholder(variable_name=\"chat_history\"),\n",
    "#         (\"human\", \"#Question:\\n{input}\"),  # 사용자 입력을 변수로 사용\n",
    "#     ]\n",
    "# )\n",
    "\n",
    "prompt = ChatPromptTemplate.from_messages([\n",
    "    (\"system\", order_system_prompt),\n",
    "    MessagesPlaceholder(\"chat_history\"),\n",
    "    (\"human\", \"{input}\"),\n",
    "])\n",
    "\n",
    "# llm 생성\n",
    "llm = ChatOpenAI(model_name=\"gpt-4o\")\n",
    "\n",
    "# 일반 Chain 생성\n",
    "chain = prompt | llm | StrOutputParser()"
   ]
  },
  {
   "cell_type": "code",
   "execution_count": 6,
   "metadata": {},
   "outputs": [],
   "source": [
    "from langchain_core.runnables.utils import ConfigurableFieldSpec\n",
    "\n",
    "config_fields = [\n",
    "    ConfigurableFieldSpec(\n",
    "        id=\"user_id\",\n",
    "        annotation=str,\n",
    "        name=\"User ID\",\n",
    "        description=\"Unique identifier for a user.\",\n",
    "        default=\"\",\n",
    "        is_shared=True,\n",
    "    )\n",
    "]"
   ]
  },
  {
   "cell_type": "code",
   "execution_count": 7,
   "metadata": {},
   "outputs": [],
   "source": [
    "chain_with_history = RunnableWithMessageHistory(\n",
    "    chain,\n",
    "    get_chat_history,  # 대화 기록을 가져오는 함수를 설정합니다.\n",
    "    input_messages_key=\"input\",  # 입력 메시지의 키를 \"question\"으로 설정\n",
    "    history_messages_key=\"chat_history\",  # 대화 기록 메시지의 키를 \"history\"로 설정\n",
    "    history_factory_config=config_fields,  # 대화 기록 조회시 참고할 파라미터를 설정합니다.\n",
    ")"
   ]
  },
  {
   "cell_type": "code",
   "execution_count": 8,
   "metadata": {},
   "outputs": [
    {
     "data": {
      "text/plain": [
       "'안녕하세요, 김현우 고객님. 만나서 반갑습니다! 아이스크림 토핑 주문하시거나 궁금하신 점 있으시면 말씀해 주세요.'"
      ]
     },
     "execution_count": 8,
     "metadata": {},
     "output_type": "execute_result"
    }
   ],
   "source": [
    "\n",
    "question = \"안녕 반가워, 내 이름은 김현우야.\"\n",
    "\n",
    "\n",
    "response = chain_with_history.invoke(\n",
    "            {\"input\": question},\n",
    "            config={\"configurable\": {\"user_id\": \"user1\"}}            # 같은 session_id 를 입력하면 이전 대화 스레드의 내용을 가져오기 때문에 이어서 대화가 가능!\n",
    "        )\n",
    "\n",
    "response"
   ]
  },
  {
   "cell_type": "code",
   "execution_count": 9,
   "metadata": {},
   "outputs": [
    {
     "data": {
      "text/plain": [
       "'김현우 고객님이십니다. 주문하시거나 궁금한 점 있으시면 언제든지 말씀해 주세요.'"
      ]
     },
     "execution_count": 9,
     "metadata": {},
     "output_type": "execute_result"
    }
   ],
   "source": [
    "\n",
    "question = \"내 이름이 뭐라고?\"\n",
    "\n",
    "\n",
    "response = chain_with_history.invoke(\n",
    "            {\"input\": question},\n",
    "            config={\"configurable\": {\"user_id\": \"user1\"}}            # 같은 session_id 를 입력하면 이전 대화 스레드의 내용을 가져오기 때문에 이어서 대화가 가능!\n",
    "        )\n",
    "\n",
    "response"
   ]
  },
  {
   "cell_type": "code",
   "execution_count": null,
   "metadata": {},
   "outputs": [],
   "source": [
    "\n",
    "question = \"코코볼 주세요\"\n",
    "\n",
    "\n",
    "response = chain_with_history.invoke(\n",
    "            {\"input\": question},\n",
    "            config={\"configurable\": {\"user_id\": \"user1\"}}            # 같은 session_id 를 입력하면 이전 대화 스레드의 내용을 가져오기 때문에 이어서 대화가 가능!\n",
    "        )\n",
    "\n",
    "response"
   ]
  },
  {
   "cell_type": "markdown",
   "metadata": {},
   "source": [
    "## 만든 sqlite.db 보기"
   ]
  },
  {
   "cell_type": "code",
   "execution_count": 10,
   "metadata": {},
   "outputs": [],
   "source": [
    "user_id = \"user1\"  # 대화 기록을 조회할 사용자 ID\n",
    "chat_history = SQLChatMessageHistory(\n",
    "    table_name=\"customer\",  # 대화 기록이 저장된 테이블 이름\n",
    "    session_id=user_id,     # 조회할 세션 ID\n",
    "    connection=\"sqlite:///sqlite.db\",  # SQLite 데이터베이스 연결\n",
    ")"
   ]
  },
  {
   "cell_type": "code",
   "execution_count": 11,
   "metadata": {},
   "outputs": [
    {
     "data": {
      "text/plain": [
       "[HumanMessage(content='안녕 반가워, 내 이름은 김현우야.'),\n",
       " AIMessage(content='안녕하세요, 김현우 고객님. 만나서 반갑습니다! 아이스크림 토핑 주문하시거나 궁금하신 점 있으시면 말씀해 주세요.'),\n",
       " HumanMessage(content='내 이름이 뭐라고?'),\n",
       " AIMessage(content='김현우 고객님이십니다. 주문하시거나 궁금한 점 있으시면 언제든지 말씀해 주세요.')]"
      ]
     },
     "execution_count": 11,
     "metadata": {},
     "output_type": "execute_result"
    }
   ],
   "source": [
    "messages = chat_history.messages\n",
    "\n",
    "messages"
   ]
  },
  {
   "cell_type": "code",
   "execution_count": null,
   "metadata": {},
   "outputs": [],
   "source": []
  }
 ],
 "metadata": {
  "kernelspec": {
   "display_name": "langchain",
   "language": "python",
   "name": "python3"
  },
  "language_info": {
   "codemirror_mode": {
    "name": "ipython",
    "version": 3
   },
   "file_extension": ".py",
   "mimetype": "text/x-python",
   "name": "python",
   "nbconvert_exporter": "python",
   "pygments_lexer": "ipython3",
   "version": "3.11.9"
  }
 },
 "nbformat": 4,
 "nbformat_minor": 2
}
