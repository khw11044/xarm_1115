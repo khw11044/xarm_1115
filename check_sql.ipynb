{
 "cells": [
  {
   "cell_type": "code",
   "execution_count": 16,
   "metadata": {},
   "outputs": [],
   "source": [
    "from langchain_community.chat_message_histories import ChatMessageHistory, SQLChatMessageHistory"
   ]
  },
  {
   "cell_type": "code",
   "execution_count": 17,
   "metadata": {},
   "outputs": [],
   "source": [
    "user_id = \"a0001\"  # 대화 기록을 조회할 사용자 ID\n",
    "chat_history = SQLChatMessageHistory(\n",
    "    table_name=\"customer\",  # 대화 기록이 저장된 테이블 이름\n",
    "    session_id=user_id,     # 조회할 세션 ID\n",
    "    connection=\"sqlite:///sqlite.db\",  # SQLite 데이터베이스 연결\n",
    ")"
   ]
  },
  {
   "cell_type": "code",
   "execution_count": 18,
   "metadata": {},
   "outputs": [
    {
     "data": {
      "text/plain": [
       "[HumanMessage(content='안녕? 내 이름은 김현우야. 만나서 반가워'),\n",
       " AIMessage(content='안녕하세요, 김현우님! 만나서 반갑습니다. 어떻게 도와드릴까요?'),\n",
       " HumanMessage(content='코코볼 주문할께요'),\n",
       " AIMessage(content='- 코코볼\\n\\n주문되었습니다.'),\n",
       " HumanMessage(content='내 이름이 뭐라고?'),\n",
       " AIMessage(content='김현우님, 기억하고 있습니다. 다른 도움이 필요하신가요?'),\n",
       " HumanMessage(content='내가 이전에 주문한게 뭐였지? 그거 다시 줘'),\n",
       " AIMessage(content='김현우님께서 이전에 주문하신 것은 코코볼입니다. 다시 주문해드릴까요?'),\n",
       " HumanMessage(content='네'),\n",
       " AIMessage(content='- 코코볼\\n\\n주문되었습니다.')]"
      ]
     },
     "execution_count": 18,
     "metadata": {},
     "output_type": "execute_result"
    }
   ],
   "source": [
    "messages = chat_history.messages\n",
    "\n",
    "messages"
   ]
  },
  {
   "cell_type": "code",
   "execution_count": null,
   "metadata": {},
   "outputs": [],
   "source": []
  }
 ],
 "metadata": {
  "kernelspec": {
   "display_name": "langchain",
   "language": "python",
   "name": "python3"
  },
  "language_info": {
   "codemirror_mode": {
    "name": "ipython",
    "version": 3
   },
   "file_extension": ".py",
   "mimetype": "text/x-python",
   "name": "python",
   "nbconvert_exporter": "python",
   "pygments_lexer": "ipython3",
   "version": "3.11.9"
  }
 },
 "nbformat": 4,
 "nbformat_minor": 2
}
